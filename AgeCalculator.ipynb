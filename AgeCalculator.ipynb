{
 "cells": [
  {
   "cell_type": "code",
   "execution_count": 8,
   "metadata": {},
   "outputs": [
    {
     "name": "stdout",
     "output_type": "stream",
     "text": [
      "25 years\n"
     ]
    }
   ],
   "source": [
    "import datetime\n",
    "def ageCalculator(y, m, d):\n",
    "    today = datetime.datetime.now().date()\n",
    "    dob = datetime.date(y, m, d)\n",
    "    age = int((today-dob).days / 365.25)\n",
    "    print(age,'years')\n",
    "ageCalculator(1997, 1, 3)"
   ]
  },
  {
   "cell_type": "code",
   "execution_count": 19,
   "metadata": {},
   "outputs": [
    {
     "name": "stdout",
     "output_type": "stream",
     "text": [
      "Enter your birthdate (yyyy-mm-dd): 1997-01-03\n",
      "You are 25 years, 7 months, 22 days old.\n"
     ]
    }
   ],
   "source": [
    "from datetime import datetime\n",
    "#function to calculate age\n",
    "def ageCalculator1(p_year, p_month, p_day, b_year, b_month, b_day): #p-present, b-birth\n",
    "    import datetime\n",
    "    today = datetime.date(p_year, p_month, p_day) #Current Date\n",
    "    dob = datetime.date(b_year, b_month, b_day) #Birth date\n",
    "    p_year = ((today-dob).total_seconds() / (365.242*24*3600))\n",
    "    p_yearI = int(p_year)\n",
    "    p_month = (p_year - p_yearI)*12\n",
    "    p_monthI = int(p_month)\n",
    "    p_day = (p_month - p_monthI)*(365.242/12)\n",
    "    p_dayI = int(p_day)\n",
    "    print('You are {0} years, {1} months, {2} days old.'.format(p_yearI, p_monthI, p_dayI))\n",
    "\n",
    "birthdate = input(\"Enter your birthdate (yyyy-mm-dd): \")\n",
    "my_date = datetime.strptime(birthdate, \"%Y-%m-%d\")\n",
    "b_year = my_date.year\n",
    "b_month = my_date.month\n",
    "b_day = my_date.day\n",
    "\n",
    "# current date and time\n",
    "now = datetime.now()\n",
    "# get year from date\n",
    "p_year = int(now.strftime(\"%Y\"))\n",
    "# get month from date\n",
    "p_month = int(now.strftime(\"%m\"))\n",
    "# get day from date\n",
    "p_day = int(now.strftime(\"%d\"))\n",
    "\n",
    "ageCalculator1(p_year, p_month, p_day, b_year, b_month, b_day)"
   ]
  },
  {
   "cell_type": "code",
   "execution_count": null,
   "metadata": {},
   "outputs": [],
   "source": []
  },
  {
   "cell_type": "code",
   "execution_count": null,
   "metadata": {},
   "outputs": [],
   "source": []
  }
 ],
 "metadata": {
  "kernelspec": {
   "display_name": "Python 3",
   "language": "python",
   "name": "python3"
  },
  "language_info": {
   "codemirror_mode": {
    "name": "ipython",
    "version": 3
   },
   "file_extension": ".py",
   "mimetype": "text/x-python",
   "name": "python",
   "nbconvert_exporter": "python",
   "pygments_lexer": "ipython3",
   "version": "3.7.4"
  }
 },
 "nbformat": 4,
 "nbformat_minor": 2
}
